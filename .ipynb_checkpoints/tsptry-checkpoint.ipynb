{
 "cells": [
  {
   "cell_type": "code",
   "execution_count": 2,
   "id": "0e9e84dc-5fe3-4916-a1ba-54a9b23d5122",
   "metadata": {},
   "outputs": [
    {
     "name": "stdout",
     "output_type": "stream",
     "text": [
      "Shortest Route: Nairobi -> Laikipia -> Mombasa -> Narok -> Nyeri -> Meru -> Nairobi\n",
      "Total Distance: 54.07\n"
     ]
    }
   ],
   "source": [
    "import itertools\n",
    "import numpy as np\n",
    "\n",
    "# Define city coordinates (displacements from the starting point)\n",
    "cities = {\n",
    "    \"Nairobi\": (0, 0),    # Starting point\n",
    "    \"Nyeri\": (10, 5),\n",
    "    \"Laikipia\": (4, 12),\n",
    "    \"Meru\": (9, 3),\n",
    "    \"Narok\": (7, 8),\n",
    "    \"Mombasa\":(13,20)\n",
    "}\n",
    "\n",
    "# Compute distance between two cities\n",
    "def distance(city1, city2):\n",
    "    x1, y1 = cities[city1]\n",
    "    x2, y2 = cities[city2]\n",
    "    return np.sqrt((x2 - x1)**2 + (y2 - y1)**2)\n",
    "\n",
    "# Generate all possible routes\n",
    "city_names = list(cities.keys())\n",
    "shortest_route = None\n",
    "min_distance = float('inf')\n",
    "\n",
    "for perm in itertools.permutations(city_names[1:]):  # Exclude starting city\n",
    "    route = [\"Nairobi\"] + list(perm) + [\"Nairobi\"]  # Round trip\n",
    "    total_distance = sum(distance(route[i], route[i+1]) for i in range(len(route)-1))\n",
    "\n",
    "    if total_distance < min_distance:\n",
    "        min_distance = total_distance\n",
    "        shortest_route = route\n",
    "\n",
    "# Display result\n",
    "print(f\"Shortest Route: {' -> '.join(shortest_route)}\")\n",
    "print(f\"Total Distance: {min_distance:.2f}\")"
   ]
  }
 ],
 "metadata": {
  "kernelspec": {
   "display_name": "Python 3",
   "language": "python",
   "name": "python3"
  },
  "language_info": {
   "codemirror_mode": {
    "name": "ipython",
    "version": 3
   },
   "file_extension": ".py",
   "mimetype": "text/x-python",
   "name": "python",
   "nbconvert_exporter": "python",
   "pygments_lexer": "ipython3",
   "version": "3.9.13"
  }
 },
 "nbformat": 4,
 "nbformat_minor": 5
}
